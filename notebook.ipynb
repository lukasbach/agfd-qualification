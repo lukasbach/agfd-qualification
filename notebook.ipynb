{
 "cells": [
  {
   "cell_type": "markdown",
   "metadata": {},
   "source": [
    "# Analysetechniken fuer grosse Datenbestaende - Qualification Task\n",
    "by Lukas Bach"
   ]
  },
  {
   "cell_type": "markdown",
   "metadata": {
    "pycharm": {
     "name": "#%% md\n"
    }
   },
   "source": [
    "## Preparing data"
   ]
  },
  {
   "cell_type": "code",
   "execution_count": 155,
   "metadata": {
    "collapsed": true
   },
   "outputs": [
    {
     "name": "stdout",
     "output_type": "stream",
     "text": [
      "(1879, 10)\n"
     ]
    }
   ],
   "source": [
    "import pandas as pd\n",
    "import plotly.offline as py\n",
    "import plotly.express as px\n",
    "import matplotlib.pyplot as plt\n",
    "import matplotlib\n",
    "import numpy as np\n",
    "\n",
    "testData = pd.read_csv(\"./DMC_2019_task/test.csv\", delimiter='|')\n",
    "trainData = pd.read_csv(\"./DMC_2019_task/train.csv\", delimiter='|')\n",
    "solutionData = pd.read_csv(\"./DMC_2019_task/solution.csv\", delimiter='|')\n",
    "\n",
    "print(trainData.shape)"
   ]
  },
  {
   "cell_type": "code",
   "execution_count": 156,
   "metadata": {
    "pycharm": {
     "name": "#%%\n"
    }
   },
   "outputs": [
    {
     "data": {
      "text/plain": "   trustLevel  totalScanTimeInSeconds  grandTotal  lineItemVoids  \\\n0           5                    1054       54.70              7   \n1           3                     108       27.36              5   \n2           3                    1516       62.16              3   \n3           6                    1791       92.31              8   \n4           5                     430       81.53              3   \n\n   scansWithoutRegistration  quantityModifications  scannedLineItemsPerSecond  \\\n0                         0                      3                   0.027514   \n1                         2                      4                   0.129630   \n2                        10                      5                   0.008575   \n3                         4                      4                   0.016192   \n4                         7                      2                   0.062791   \n\n   valuePerSecond  lineItemVoidsPerPosition  fraud  \n0        0.051898                  0.241379      0  \n1        0.253333                  0.357143      0  \n2        0.041003                  0.230769      0  \n3        0.051541                  0.275862      0  \n4        0.189605                  0.111111      0  ",
      "text/html": "<div>\n<style scoped>\n    .dataframe tbody tr th:only-of-type {\n        vertical-align: middle;\n    }\n\n    .dataframe tbody tr th {\n        vertical-align: top;\n    }\n\n    .dataframe thead th {\n        text-align: right;\n    }\n</style>\n<table border=\"1\" class=\"dataframe\">\n  <thead>\n    <tr style=\"text-align: right;\">\n      <th></th>\n      <th>trustLevel</th>\n      <th>totalScanTimeInSeconds</th>\n      <th>grandTotal</th>\n      <th>lineItemVoids</th>\n      <th>scansWithoutRegistration</th>\n      <th>quantityModifications</th>\n      <th>scannedLineItemsPerSecond</th>\n      <th>valuePerSecond</th>\n      <th>lineItemVoidsPerPosition</th>\n      <th>fraud</th>\n    </tr>\n  </thead>\n  <tbody>\n    <tr>\n      <th>0</th>\n      <td>5</td>\n      <td>1054</td>\n      <td>54.70</td>\n      <td>7</td>\n      <td>0</td>\n      <td>3</td>\n      <td>0.027514</td>\n      <td>0.051898</td>\n      <td>0.241379</td>\n      <td>0</td>\n    </tr>\n    <tr>\n      <th>1</th>\n      <td>3</td>\n      <td>108</td>\n      <td>27.36</td>\n      <td>5</td>\n      <td>2</td>\n      <td>4</td>\n      <td>0.129630</td>\n      <td>0.253333</td>\n      <td>0.357143</td>\n      <td>0</td>\n    </tr>\n    <tr>\n      <th>2</th>\n      <td>3</td>\n      <td>1516</td>\n      <td>62.16</td>\n      <td>3</td>\n      <td>10</td>\n      <td>5</td>\n      <td>0.008575</td>\n      <td>0.041003</td>\n      <td>0.230769</td>\n      <td>0</td>\n    </tr>\n    <tr>\n      <th>3</th>\n      <td>6</td>\n      <td>1791</td>\n      <td>92.31</td>\n      <td>8</td>\n      <td>4</td>\n      <td>4</td>\n      <td>0.016192</td>\n      <td>0.051541</td>\n      <td>0.275862</td>\n      <td>0</td>\n    </tr>\n    <tr>\n      <th>4</th>\n      <td>5</td>\n      <td>430</td>\n      <td>81.53</td>\n      <td>3</td>\n      <td>7</td>\n      <td>2</td>\n      <td>0.062791</td>\n      <td>0.189605</td>\n      <td>0.111111</td>\n      <td>0</td>\n    </tr>\n  </tbody>\n</table>\n</div>"
     },
     "execution_count": 156,
     "metadata": {},
     "output_type": "execute_result"
    }
   ],
   "source": [
    "trainData.head()"
   ]
  },
  {
   "cell_type": "markdown",
   "metadata": {
    "pycharm": {
     "name": "#%% md\n"
    }
   },
   "source": [
    "Lets get a quick overview over the columns available."
   ]
  },
  {
   "cell_type": "code",
   "execution_count": 157,
   "metadata": {
    "pycharm": {
     "name": "#%%\n"
    }
   },
   "outputs": [
    {
     "name": "stdout",
     "output_type": "stream",
     "text": [
      "Rows with fraud=0: 104/1879\n",
      " - trustLevel\n",
      " - totalScanTimeInSeconds\n",
      " - grandTotal\n",
      " - lineItemVoids\n",
      " - scansWithoutRegistration\n",
      " - quantityModifications\n",
      " - scannedLineItemsPerSecond\n",
      " - valuePerSecond\n",
      " - lineItemVoidsPerPosition\n",
      " - fraud\n"
     ]
    }
   ],
   "source": [
    "y = trainData[[\"fraud\"]].values.ravel()\n",
    "print('Rows with fraud=0: ' + str(np.count_nonzero(y)) + '/' + str(len(y)))\n",
    "\n",
    "for col in trainData.columns:\n",
    "    print(' - ' + col)"
   ]
  },
  {
   "cell_type": "code",
   "execution_count": 158,
   "metadata": {
    "pycharm": {
     "name": "#%%\n"
    }
   },
   "outputs": [
    {
     "data": {
      "text/plain": "        trustLevel  totalScanTimeInSeconds   grandTotal  lineItemVoids  \\\ncount  1879.000000             1879.000000  1879.000000    1879.000000   \nmean      3.401809              932.153273    50.864492       5.469931   \nstd       1.709404              530.144640    28.940202       3.451169   \nmin       1.000000                2.000000     0.010000       0.000000   \n25%       2.000000              474.500000    25.965000       2.000000   \n50%       3.000000              932.000000    51.210000       5.000000   \n75%       5.000000             1397.000000    77.285000       8.000000   \nmax       6.000000             1831.000000    99.960000      11.000000   \n\n       scansWithoutRegistration  quantityModifications  \\\ncount               1879.000000            1879.000000   \nmean                   4.904204               2.525279   \nstd                    3.139697               1.695472   \nmin                    0.000000               0.000000   \n25%                    2.000000               1.000000   \n50%                    5.000000               3.000000   \n75%                    8.000000               4.000000   \nmax                   10.000000               5.000000   \n\n       scannedLineItemsPerSecond  valuePerSecond  lineItemVoidsPerPosition  \\\ncount                1879.000000     1879.000000               1879.000000   \nmean                    0.058138        0.201746                  0.745404   \nstd                     0.278512        1.242135                  1.327241   \nmin                     0.000548        0.000007                  0.000000   \n25%                     0.008384        0.027787                  0.160000   \n50%                     0.016317        0.054498                  0.350000   \n75%                     0.032594        0.107313                  0.666667   \nmax                     6.666667       37.870000                 11.000000   \n\n             fraud  \ncount  1879.000000  \nmean      0.055349  \nstd       0.228720  \nmin       0.000000  \n25%       0.000000  \n50%       0.000000  \n75%       0.000000  \nmax       1.000000  ",
      "text/html": "<div>\n<style scoped>\n    .dataframe tbody tr th:only-of-type {\n        vertical-align: middle;\n    }\n\n    .dataframe tbody tr th {\n        vertical-align: top;\n    }\n\n    .dataframe thead th {\n        text-align: right;\n    }\n</style>\n<table border=\"1\" class=\"dataframe\">\n  <thead>\n    <tr style=\"text-align: right;\">\n      <th></th>\n      <th>trustLevel</th>\n      <th>totalScanTimeInSeconds</th>\n      <th>grandTotal</th>\n      <th>lineItemVoids</th>\n      <th>scansWithoutRegistration</th>\n      <th>quantityModifications</th>\n      <th>scannedLineItemsPerSecond</th>\n      <th>valuePerSecond</th>\n      <th>lineItemVoidsPerPosition</th>\n      <th>fraud</th>\n    </tr>\n  </thead>\n  <tbody>\n    <tr>\n      <th>count</th>\n      <td>1879.000000</td>\n      <td>1879.000000</td>\n      <td>1879.000000</td>\n      <td>1879.000000</td>\n      <td>1879.000000</td>\n      <td>1879.000000</td>\n      <td>1879.000000</td>\n      <td>1879.000000</td>\n      <td>1879.000000</td>\n      <td>1879.000000</td>\n    </tr>\n    <tr>\n      <th>mean</th>\n      <td>3.401809</td>\n      <td>932.153273</td>\n      <td>50.864492</td>\n      <td>5.469931</td>\n      <td>4.904204</td>\n      <td>2.525279</td>\n      <td>0.058138</td>\n      <td>0.201746</td>\n      <td>0.745404</td>\n      <td>0.055349</td>\n    </tr>\n    <tr>\n      <th>std</th>\n      <td>1.709404</td>\n      <td>530.144640</td>\n      <td>28.940202</td>\n      <td>3.451169</td>\n      <td>3.139697</td>\n      <td>1.695472</td>\n      <td>0.278512</td>\n      <td>1.242135</td>\n      <td>1.327241</td>\n      <td>0.228720</td>\n    </tr>\n    <tr>\n      <th>min</th>\n      <td>1.000000</td>\n      <td>2.000000</td>\n      <td>0.010000</td>\n      <td>0.000000</td>\n      <td>0.000000</td>\n      <td>0.000000</td>\n      <td>0.000548</td>\n      <td>0.000007</td>\n      <td>0.000000</td>\n      <td>0.000000</td>\n    </tr>\n    <tr>\n      <th>25%</th>\n      <td>2.000000</td>\n      <td>474.500000</td>\n      <td>25.965000</td>\n      <td>2.000000</td>\n      <td>2.000000</td>\n      <td>1.000000</td>\n      <td>0.008384</td>\n      <td>0.027787</td>\n      <td>0.160000</td>\n      <td>0.000000</td>\n    </tr>\n    <tr>\n      <th>50%</th>\n      <td>3.000000</td>\n      <td>932.000000</td>\n      <td>51.210000</td>\n      <td>5.000000</td>\n      <td>5.000000</td>\n      <td>3.000000</td>\n      <td>0.016317</td>\n      <td>0.054498</td>\n      <td>0.350000</td>\n      <td>0.000000</td>\n    </tr>\n    <tr>\n      <th>75%</th>\n      <td>5.000000</td>\n      <td>1397.000000</td>\n      <td>77.285000</td>\n      <td>8.000000</td>\n      <td>8.000000</td>\n      <td>4.000000</td>\n      <td>0.032594</td>\n      <td>0.107313</td>\n      <td>0.666667</td>\n      <td>0.000000</td>\n    </tr>\n    <tr>\n      <th>max</th>\n      <td>6.000000</td>\n      <td>1831.000000</td>\n      <td>99.960000</td>\n      <td>11.000000</td>\n      <td>10.000000</td>\n      <td>5.000000</td>\n      <td>6.666667</td>\n      <td>37.870000</td>\n      <td>11.000000</td>\n      <td>1.000000</td>\n    </tr>\n  </tbody>\n</table>\n</div>"
     },
     "execution_count": 158,
     "metadata": {},
     "output_type": "execute_result"
    }
   ],
   "source": [
    "trainData.describe()\n"
   ]
  },
  {
   "cell_type": "markdown",
   "metadata": {},
   "source": [
    "Apart from the unbalance of the data, i.e. almost no rows with fraud=0 compared to\n",
    "other rows, the data is fairly well organized. All cells are filled and contain\n",
    "float numbers.\n",
    "\n",
    "Lets visualize the data."
   ]
  },
  {
   "cell_type": "code",
   "execution_count": 159,
   "metadata": {
    "pycharm": {
     "name": "#%%\n"
    }
   },
   "outputs": [
    {
     "data": {
      "text/plain": "<Figure size 576x432 with 12 Axes>",
      "image/png": "[encoded data removed]"
     },
     "metadata": {
      "needs_background": "light"
     },
     "output_type": "display_data"
    }
   ],
   "source": [
    "trainData.plot(kind='box', subplots=True,\n",
    "          layout=(3,4), sharex=False,\n",
    "          sharey=False, figsize=(8,6),\n",
    "          title='Box Plot for each input variable')\n",
    "plt.savefig('data_box')\n",
    "plt.show()"
   ]
  },
  {
   "cell_type": "code",
   "execution_count": 160,
   "metadata": {
    "pycharm": {
     "name": "#%%\n"
    }
   },
   "outputs": [
    {
     "data": {
      "text/plain": "<Figure size 864x432 with 10 Axes>",
      "image/png": "[encoded data removed]"
     },
     "metadata": {
      "needs_background": "light"
     },
     "output_type": "display_data"
    }
   ],
   "source": [
    "import pylab as pl\n",
    "trainData.hist(bins=30, figsize=(12, 6), layout=(5,2))\n",
    "pl.suptitle(\"Histogram for each numeric input variable\")\n",
    "plt.savefig('data_hist')\n",
    "plt.show()"
   ]
  },
  {
   "cell_type": "markdown",
   "metadata": {},
   "source": [
    "Lets prepare the data for training. Again, no actual tidy-up required, just\n",
    "horizontally split data into X-sourcedata and a y-row which contains the train-\n",
    "input (fraud row). We will not split the data into train- and verification-data\n",
    "as we can use the supplied test.csv and solution.csv for verification, so we will\n",
    "use the train.csv data entirely for training."
   ]
  },
  {
   "cell_type": "code",
   "execution_count": 161,
   "metadata": {
    "pycharm": {
     "name": "#%%\n"
    }
   },
   "outputs": [
    {
     "name": "stdout",
     "output_type": "stream",
     "text": [
      "Nonzero values: 104/1879\n"
     ]
    }
   ],
   "source": [
    "X = trainData.drop('fraud', axis=1)\n",
    "y = trainData[[\"fraud\"]].values.ravel()\n",
    "print('Nonzero values: ' + str(np.count_nonzero(y)) + '/' + str(len(y)))\n"
   ]
  },
  {
   "cell_type": "markdown",
   "metadata": {},
   "source": [
    "## Defining custom functions"
   ]
  },
  {
   "cell_type": "markdown",
   "metadata": {
    "pycharm": {
     "name": "#%% md\n"
    }
   },
   "source": [
    "### Custom score function\n",
    "\n",
    "The task defines a custom score function, that I have defined here. I've used\n",
    "it later to calculate the monetary result from classifiers. The scorer object\n",
    "returned from ``skm`` can be used in some ml trainers, but the classifiers I\n",
    "have used unfortunately did not support custom score functions."
   ]
  },
  {
   "cell_type": "code",
   "execution_count": 162,
   "metadata": {
    "pycharm": {
     "name": "#%%\n"
    }
   },
   "outputs": [],
   "source": [
    "import sklearn.metrics as skm\n",
    "\n",
    "def customScoreFunction(actualY, predictedY):\n",
    "    if actualY == 1:\n",
    "        if predictedY == 1:\n",
    "            return 5\n",
    "        elif predictedY == 0:\n",
    "            return -5\n",
    "    elif actualY == 0:\n",
    "        if predictedY == 1:\n",
    "            return -25\n",
    "        elif predictedY == 0:\n",
    "            return 0\n",
    "scorer = skm.make_scorer(customScoreFunction, greater_is_better=True)"
   ]
  },
  {
   "cell_type": "markdown",
   "metadata": {
    "pycharm": {
     "name": "#%% md\n"
    }
   },
   "source": [
    "### Prediction checker\n",
    "The following utility method calculates and logs tp, fp, tn, fn, the calculated\n",
    "monetary result as well as accuracy, precision and f1 value."
   ]
  },
  {
   "cell_type": "code",
   "execution_count": 163,
   "metadata": {
    "pycharm": {
     "name": "#%%\n"
    }
   },
   "outputs": [],
   "source": [
    "import sklearn.metrics as skm\n",
    "\n",
    "def checkPrediction(name, prediction):\n",
    "    print(\"Prediction of \" + name)\n",
    "    fp, fn, tp, tn = 0, 0, 0, 0\n",
    "    for i in range(len(solutionData) - 2):\n",
    "        rowSolution = solutionData.get(\"fraud\")[i]\n",
    "        rowPrediction = prediction[i]\n",
    "\n",
    "        if rowSolution == 1:\n",
    "            if rowPrediction == 1:\n",
    "                tp += 1\n",
    "            elif rowPrediction == 0:\n",
    "                fn += 1\n",
    "        elif rowSolution == 0:\n",
    "            if rowPrediction == 1:\n",
    "                fp += 1\n",
    "            elif rowPrediction == 0:\n",
    "                tn += 1\n",
    "\n",
    "    print(\"True Positives: \" + str(tp))\n",
    "    print(\"True Negatives: \" + str(tn))\n",
    "    print(\"False Positives: \" + str(fp))\n",
    "    print(\"False Negatives: \" + str(fn))\n",
    "\n",
    "    win = fn * (-5) + fp * (-25) + tp * 5\n",
    "\n",
    "    print(\"Monetary result: \" + str(win))\n",
    "\n",
    "    print(\"Accuracy: \" + str(skm.accuracy_score(solutionData.get(\"fraud\"), prediction)))\n",
    "    print(\"Precision: \" + str(skm.precision_score(solutionData.get(\"fraud\"), prediction)))\n",
    "    print(\"F1: \" + str(skm.f1_score(solutionData.get(\"fraud\"), prediction)))"
   ]
  },
  {
   "cell_type": "markdown",
   "metadata": {},
   "source": [
    "## Attempts for improving data quality\n",
    "In an effort to counter the data imbalance issue, I used SMOTE oversampling.\n",
    "I have tried values for ``k_neighbors`` larger than one, but that seemed to have\n",
    "hurt classification quality, so I used a value of one, which I suppose yields\n",
    "results similar to normal oversampling."
   ]
  },
  {
   "cell_type": "code",
   "execution_count": 164,
   "metadata": {
    "pycharm": {
     "name": "#%%\n"
    }
   },
   "outputs": [
    {
     "name": "stdout",
     "output_type": "stream",
     "text": [
      "Previously Nonzero values: 104/1879\n",
      "Now Nonzero values: 1775/3550\n"
     ]
    }
   ],
   "source": [
    "import numpy as np\n",
    "from sklearn.ensemble import RandomForestClassifier\n",
    "from imblearn.over_sampling import SMOTE\n",
    "sm = SMOTE(random_state=12, k_neighbors=1)\n",
    "XOverSampled, yOversampled = sm.fit_sample(X, y)\n",
    "\n",
    "print('Previously Nonzero values: ' + str(np.count_nonzero(y)) + '/' + str(len(y)))\n",
    "print('Now Nonzero values: ' + str(np.count_nonzero(yOversampled)) + '/' + str(len(yOversampled)))"
   ]
  },
  {
   "cell_type": "markdown",
   "metadata": {
    "pycharm": {
     "name": "#%% md\n"
    }
   },
   "source": [
    "I've also attempted a dimensionality reduction, however again as shown later,\n",
    "that did not yield good results."
   ]
  },
  {
   "cell_type": "code",
   "execution_count": 165,
   "metadata": {
    "pycharm": {
     "name": "#%%\n"
    }
   },
   "outputs": [
    {
     "name": "stdout",
     "output_type": "stream",
     "text": [
      "(3550, 5)\n"
     ]
    }
   ],
   "source": [
    "from sklearn.decomposition import PCA\n",
    "pca = PCA(n_components=5)\n",
    "pca.fit(X, y)\n",
    "XPca = pca.transform(XOverSampled)\n",
    "testdataPca = pca.transform(testData)\n",
    "print(XPca.shape)\n",
    "\n"
   ]
  },
  {
   "cell_type": "markdown",
   "metadata": {},
   "source": [
    "## Classification\n",
    "For some reason, I've yielded the best results using a random forest classifier\n",
    "both without oversampling and PCA. The precision is still not good enough, and the\n",
    "resulting score with the custom score function is still bad."
   ]
  },
  {
   "cell_type": "code",
   "execution_count": 166,
   "metadata": {
    "pycharm": {
     "name": "#%%\n"
    }
   },
   "outputs": [
    {
     "name": "stdout",
     "output_type": "stream",
     "text": [
      "Score: 1.0\n",
      "Prediction of Random Forest Classifier without oversampling\n",
      "True Positives: 14357\n",
      "True Negatives: 470759\n",
      "False Positives: 3633\n",
      "False Negatives: 9370\n",
      "Monetary result: -65890\n",
      "Accuracy: 0.9738959007951883\n",
      "Precision: 0.7980544747081713\n",
      "F1: 0.6883045281300191\n"
     ]
    }
   ],
   "source": [
    "RF = RandomForestClassifier(n_estimators=100, max_depth=10, random_state=0)\n",
    "RF.fit(X, y)\n",
    "prediction = RF.predict(testData)\n",
    "print(\"Score: \" + str(RF.score(X, y)))\n",
    "checkPrediction(\"Random Forest Classifier without oversampling\", prediction)"
   ]
  },
  {
   "cell_type": "markdown",
   "metadata": {
    "pycharm": {
     "name": "#%% md\n"
    }
   },
   "source": [
    "Lets output the result to a csv file."
   ]
  },
  {
   "cell_type": "code",
   "execution_count": 167,
   "metadata": {
    "pycharm": {
     "name": "#%%\n"
    }
   },
   "outputs": [],
   "source": [
    "pd.DataFrame(prediction, columns=['fraud']).to_csv('prediction.csv', index=None)"
   ]
  },
  {
   "cell_type": "markdown",
   "metadata": {
    "pycharm": {
     "name": "#%% md\n"
    }
   },
   "source": [
    "## All Classification attempts"
   ]
  },
  {
   "cell_type": "markdown",
   "metadata": {},
   "source": [
    "### Random Forest Classifier, no oversampling, no PCA"
   ]
  },
  {
   "cell_type": "code",
   "execution_count": 168,
   "metadata": {
    "pycharm": {
     "name": "#%%\n"
    }
   },
   "outputs": [
    {
     "name": "stdout",
     "output_type": "stream",
     "text": [
      "Score: 1.0\n",
      "Prediction of Random Forest Classifier without oversampling\n",
      "True Positives: 14357\n",
      "True Negatives: 470759\n",
      "False Positives: 3633\n",
      "False Negatives: 9370\n",
      "Monetary result: -65890\n",
      "Accuracy: 0.9738959007951883\n",
      "Precision: 0.7980544747081713\n",
      "F1: 0.6883045281300191\n"
     ]
    }
   ],
   "source": [
    "RF = RandomForestClassifier(n_estimators=100, max_depth=10, random_state=0)\n",
    "RF.fit(X, y)\n",
    "prediction = RF.predict(testData)\n",
    "print(\"Score: \" + str(RF.score(X, y)))\n",
    "checkPrediction(\"Random Forest Classifier without oversampling\", prediction)"
   ]
  },
  {
   "cell_type": "markdown",
   "metadata": {
    "pycharm": {
     "name": "#%% md\n"
    }
   },
   "source": [
    "### Random Forest Classifier, oversampling, no PCA"
   ]
  },
  {
   "cell_type": "code",
   "execution_count": 169,
   "metadata": {
    "pycharm": {
     "name": "#%%\n"
    }
   },
   "outputs": [
    {
     "name": "stdout",
     "output_type": "stream",
     "text": [
      "Score: 0.991830985915493\n",
      "Prediction of Random Forest Classifier with oversampling\n",
      "True Positives: 17022\n",
      "True Negatives: 460746\n",
      "False Positives: 13646\n",
      "False Negatives: 6705\n",
      "Monetary result: -289565\n",
      "Accuracy: 0.9591444648990908\n",
      "Precision: 0.55504108517021\n",
      "F1: 0.6258663480099274\n"
     ]
    }
   ],
   "source": [
    "RF = RandomForestClassifier(n_estimators=100, max_depth=10, random_state=0)\n",
    "RF.fit(XOverSampled, yOversampled)\n",
    "prediction = RF.predict(testData)\n",
    "print(\"Score: \" + str(RF.score(XOverSampled, yOversampled)))\n",
    "checkPrediction(\"Random Forest Classifier with oversampling\", prediction)"
   ]
  },
  {
   "cell_type": "markdown",
   "metadata": {},
   "source": [
    "### Random Forest Classifier, oversampling, PCA\n",
    "As the results show, PCA does not positively affect performance."
   ]
  },
  {
   "cell_type": "code",
   "execution_count": 170,
   "metadata": {
    "pycharm": {
     "name": "#%%\n"
    }
   },
   "outputs": [
    {
     "name": "stdout",
     "output_type": "stream",
     "text": [
      "Prediction of Random Forest Classifier with everything\n",
      "True Positives: 12850\n",
      "True Negatives: 429042\n",
      "False Positives: 45350\n",
      "False Negatives: 10877\n",
      "Monetary result: -1123885\n",
      "Accuracy: 0.8871218037384491\n",
      "Precision: 0.22079037800687284\n",
      "F1: 0.31369389822646987\n"
     ]
    }
   ],
   "source": [
    "RF = RandomForestClassifier(n_estimators=100, max_depth=10, random_state=0)\n",
    "RF.fit(XPca, yOversampled)\n",
    "prediction = RF.predict(testdataPca)\n",
    "checkPrediction(\"Random Forest Classifier with everything\", prediction)"
   ]
  },
  {
   "cell_type": "markdown",
   "metadata": {
    "pycharm": {
     "name": "#%% md\n"
    }
   },
   "source": [
    "### SGDClassifier, oversampling, no PCA"
   ]
  },
  {
   "cell_type": "code",
   "execution_count": 171,
   "outputs": [
    {
     "name": "stdout",
     "output_type": "stream",
     "text": [
      "Prediction of SGDClassifier with oversampling\n",
      "True Positives: 16952\n",
      "True Negatives: 294684\n",
      "False Positives: 179708\n",
      "False Negatives: 6775\n",
      "Monetary result: -4441815\n",
      "Accuracy: 0.6256230915781507\n",
      "Precision: 0.08619865556131841\n",
      "F1: 0.15383707898307084\n"
     ]
    }
   ],
   "source": [
    "from sklearn.linear_model import SGDClassifier\n",
    "\n",
    "SGD = SGDClassifier(loss=\"log\")\n",
    "SGD.fit(XPca, yOversampled)\n",
    "prediction = SGD.predict(testdataPca)\n",
    "checkPrediction(\"SGDClassifier with oversampling\", prediction)"
   ],
   "metadata": {
    "collapsed": false,
    "pycharm": {
     "name": "#%%\n"
    }
   }
  }
 ],
 "metadata": {
  "kernelspec": {
   "display_name": "Python 3",
   "language": "python",
   "name": "python3"
  },
  "language_info": {
   "codemirror_mode": {
    "name": "ipython",
    "version": 3
   },
   "file_extension": ".py",
   "mimetype": "text/x-python",
   "name": "python",
   "nbconvert_exporter": "python",
   "pygments_lexer": "ipython3",
   "version": "3.6.5"
  }
 },
 "nbformat": 4,
 "nbformat_minor": 1
}